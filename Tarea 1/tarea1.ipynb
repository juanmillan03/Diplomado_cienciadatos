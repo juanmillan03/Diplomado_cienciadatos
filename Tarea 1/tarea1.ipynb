{
 "cells": [
  {
   "cell_type": "markdown",
   "id": "eadd6e8a-0abe-4296-8475-e9321859d5ca",
   "metadata": {
    "tags": []
   },
   "source": [
    "<figure>\n",
    "<img src=https://www.matematicasonline.es/BachilleratoCCSS/segundo/archivos/distribucion_normal/campana_gauss1.gif  width=\"213\" height=\"101\" align=\"right\"/> \n",
    "</figure> \n",
    "\n",
    "\n",
    "# <span style=\"color:grey\"><left>Distribución normal</left></span>\n"
   ]
  },
  {
   "cell_type": "markdown",
   "id": "725af922-4e8d-4e70-b8a8-19a0881df12e",
   "metadata": {},
   "source": [
    "### Autor: Juan Esteban Millán Díaz\n",
    "> Estudiante de física de la universidad nacional de Colombia. Nací en Bogotá el 23 de febrero del 2003, toda mi vida he estado interesando en el porqué de las cosas tanto en el ámbito de la naturaleza como en el personal, por lo cual ingrese a estudiar física en el 2019. He tenido experiencia en la programación desde el colegio al trabajar una aplicación para proyectar la lectura de la concentración de ciertos minerales en muestras geológicas, este aprendizaje fue fundamentalmente empírico.[[Twitter](https://twitter.com/juanesmillan106)]\n",
    "><p><img src=https://pbs.twimg.com/profile_images/1401226870985740290/2Q7INIHw_400x400.jpg width=\"150\" height=\"150\"align=\"center\"/></p>\n"
   ]
  },
  {
   "cell_type": "markdown",
   "id": "33a020a9-ce9a-42b8-a55b-382878f0daa0",
   "metadata": {
    "tags": []
   },
   "source": [
    "## <h1 style=\"color:blue;\">Distribución normal</h1>\n",
    "Esta distribución es frecuentemente utilizada en las aplicaciones estadísticas. Su propio nombre indica su extendida utilización, justificada por la frecuencia o normalidad con la que ciertos fenómenos tienden a parecerse en su comportamiento a esta distribución.\n",
    "\n",
    "Muchas variables aleatorias continuas presentan una función de densidad cuya gráfica tiene forma de campana.\n",
    "\n",
    "En otras ocasiones, al considerar distribuciones binomiales, tipo B(n,p), para un mismo valor de  p  y valores de  n  cada vez mayores, se ve que sus polígonos de frecuencias se aproximan a una curva en \"forma de campana\".\n",
    "\n",
    "En resumen, la importancia de la distribución normal se debe principalmente a que hay muchas variables asociadas a fenómenos naturales que siguen el modelo de la normal\n",
    "- Caracteres morfológicos de individuos (personas, animales, plantas,...) de una especie, p.ejm. tallas, pesos, envergaduras, diámetros, perímetros,...\n",
    "- Caracteres fisiológicos, por ejemplo: efecto de una misma dosis de un fármaco, o de una misma cantidad de abono.\n",
    "- Caracteres sociológicos, por ejemplo: consumo de cierto producto por un mismo grupo de individuos, puntuaciones de examen.\n",
    "- Caracteres psicológicos, por ejemplo: cociente intelectual, grado de adaptación a un medio,...\n",
    "- Errores cometidos al medir ciertas magnitudes.\n",
    "### <h2 style=\"color:grey;\">Función densidad</h2>\n",
    "Empleando cálculos bastante laboriosos, puede demostrarse que el modelo de la función de densidad que corresponde a tales distribuciones viene dado por la fórmula\n",
    "\\begin{align}\n",
    "f(x)= \\frac{1}{\\sigma\\sqrt{2\\pi}}e^{-\\frac{(x-\\mu)^2}{2\\sigma^2}}\n",
    "\\end{align}\n",
    "La cual contiene $\\sigma=disperción$, $\\sigma^2=varianza$ y $\\mu=media$ que estan dadas por los dats estudiados, como vemos en la siguente imagen.\n",
    "<p> <img src=\"Captura-de-pantalla-2019-09-10-a-les-11.09.35.png\" width=\"333\" height=\"279\"align=\"center\"/></p>\n",
    "\n",
    "En la cual podemos apreciar que la media da el punto en el cual la función $f(x)$ toma su maximo valor y disperción es el ancho de la \"campana\".\n",
    "\n",
    "\n",
    "\n",
    "\n",
    " \n",
    " "
   ]
  },
  {
   "cell_type": "markdown",
   "id": "e7464b98-6714-4d88-95ba-2af6b7b7f364",
   "metadata": {},
   "source": [
    "<h3 style=\"color:grey;\">Referencias</h3>\n",
    "\n",
    "1. Distribución normal o campana de Gauss-Laplace.\n",
    "\n",
    "2. [economipedia](https://economipedia.com/definiciones/distribucion-normal.html)\n"
   ]
  },
  {
   "cell_type": "markdown",
   "id": "f92c7937-033e-4cfc-9445-291b551b88c0",
   "metadata": {},
   "source": [
    "  Link directo a colab [Colaboratory](https://colab.research.google.com/drive/1QKAC36Rc5DdfogKsv9O4T7Xorps3DLe2?hl=es)\n",
    "  \n",
    "  <a href=\"https://colab.research.google.com/drive/1QKAC36Rc5DdfogKsv9O4T7Xorps3DLe2?hl=es0\">\n",
    "    <button>Colaboratory</button>\n",
    "  </a> "
   ]
  }
 ],
 "metadata": {
  "kernelspec": {
   "display_name": "Python 3",
   "language": "python",
   "name": "python3"
  },
  "language_info": {
   "codemirror_mode": {
    "name": "ipython",
    "version": 3
   },
   "file_extension": ".py",
   "mimetype": "text/x-python",
   "name": "python",
   "nbconvert_exporter": "python",
   "pygments_lexer": "ipython3",
   "version": "3.9.1"
  }
 },
 "nbformat": 4,
 "nbformat_minor": 5
}
