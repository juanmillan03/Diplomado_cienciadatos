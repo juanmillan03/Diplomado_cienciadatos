{
 "cells": [
  {
   "cell_type": "markdown",
   "id": "764455a4-d968-47ad-98eb-2a517fa18447",
   "metadata": {},
   "source": [
    "<h1 style=\"text-align:center;\">Caracterización de Perovskitas por medio de la comparación con Base de Datos de UNAL\n",
    "</h1>\n",
    "\n",
    "\n",
    "\n"
   ]
  },
  {
   "cell_type": "markdown",
   "id": "1c87d13e-9560-44f2-a442-cfb3e1ef33eb",
   "metadata": {},
   "source": [
    "**Reporte No.** 1. Propuesta del proyecto \n",
    "\n",
    "**Asesor principal:** Daniel Mauricio Montenegro \n",
    "\n",
    "**Autores:**\n",
    "- Juan Diego Rueda Mantilla\n",
    "- Juan Esteban Millán Díaz \n",
    "- andres Felipe Villalba Cortes\n",
    "\n",
    "## Introducción\n",
    "La caracterización de materiales es un proceso de suma importancia en diferentes ramas de la ciencia como Física, Química, Petrología entre otras. Este proceso radica en que por medio de un proceso repetitivo toma una muestra de un material y por medio de diferentes métodos identifica las características intrínsecas ( invariantes a la cantidad de la muestra) del material como : Resistividad eléctrica , Fórmula Química , Módulo de Young entre otros . Simultáneamente, se va guardando esta información con la finalidad de poder identificar a posteriori cualquier material y poder conocer las características de este, sin necesidad de volver  a realizar los procesos que esto conlleva , los cuales generalmente son costosos.\n",
    "Sin embargo, existe la problemática de la posterior comparación de la información ya existente con una nueva muestra. Generalmente los dataset no son sencillos de comprender y por consiguiente la posibilidad de poder aprovechar este conocimiento previo se perdería. Es justamente este problema en el cual nos encontramos y hemos decidido solucionarlo para una temática en específico como lo es la caracterización de los minerales denominados como **Perovskitas**.\n",
    "\n",
    "La perovskita es un mineral relativamente raro en la corteza terrestre y posee unas características especiales en su estructura atómica y sus propiedades macroscópicas. Es por esto que este tipo de mineral ha tenido gran importancia en los últimos años debido a su uso en la fabricación de células solares. Existen miles de variantes, familias y subgrupos de perovskitas, las cuales al momento de extraer de la tierra no son diferenciables a simple vista. \n",
    "Un método utilizado para diferenciar y caracterizar las perovskitas es la **espectroscopía de rayos x**, la cual a grandes rasgo realiza una incidencia de rayos X sobre la muestra a diferentes ángulos y la difracción que esta genera  reflejada en una variación de intensidad de corriente en un sistema integrado (esta información se ve representada en un llamado espectro característico , ver Figura 1)  permitiendo identificar las posibles estructuras atómicas que esta muestra posee.\n",
    "\n",
    "\n",
    "<div align=\"center\"><img src=\"ejemplo1.jpg\" width=\"400\" height=\"150\"align=\"center\"/></div>\n",
    "<h1 style=\"font-size:100%;text-align:center;color:grey;\">Fig 1. Ejemplo de Espectro característico de una perovskita  \tSr_2GdRu0_6\n",
    "</h1>\n",
    "\n",
    "\n",
    "Desde hace bastantes años se ha realizado una biblioteca de perovskitas a nivel mundial, en las cuales están  organizadas de una forma de dificil acceso, por lo cual una persona que tenga una muestra de perovskita y le realice una espectroscopía de rayos x para poder obtener su espectro característico, al momento de desear buscar la caracterización de esta en la base de datos no podrá realizarla debido a dos razones específicas: La complejidad de la base de datos y el ingreso de su información a esta y que nunca un resultado de un espectro será igual a otro debido a razones físicas. \n",
    "Finalmente, nuestro proyecto irá dirigido justamente a arreglar estas dificultades. Primero , realizaremos un puente entre la base de datos ya existente y la persona que desea comparar una muestra por medio de diferentes métodos de limpieza y clustering y por otro lado generamos un programa en lenguaje Python principalmente que por medio de un proceso de automatización permite poder identificar a qué tipo de perovskita pertenece la muestra variando los parámetros de la estructura hasta que exista una correlación entre el espectro teórico y el experimental. \n",
    "\n",
    "\n",
    "\n",
    "\n",
    "\n",
    "\n",
    "\n"
   ]
  },
  {
   "cell_type": "markdown",
   "id": "21030b78-5f43-4d9f-95c4-c7e1ceb63ac9",
   "metadata": {},
   "source": [
    "## Descripción del problema\n",
    "\n",
    "-Diagrama de bloques\n",
    "\n",
    "<div align=\"center\"><img src=\"diagra.jpg\" width=\"580\" height=\"150\"align=\"center\"/></div>\n",
    "\n",
    "Inicialmente  una persona con su muestra de perovskita tendrá 2 valores iniciales: La fórmula Química del mineral y el espectro característico  experimental posterior a realizar la espectroscopía de rayos x. De forma preliminar se ingresa en el software **SPuD** la fórmula química , la cual nos provee diferentes **outputs** de los parámetros posibles de la estructura atómica ( Settings , Space Group y a´, b´, c´ ) y el Global Index[^1].\n"
   ]
  }
 ],
 "metadata": {
  "kernelspec": {
   "display_name": "Python 3",
   "language": "python",
   "name": "python3"
  },
  "language_info": {
   "codemirror_mode": {
    "name": "ipython",
    "version": 3
   },
   "file_extension": ".py",
   "mimetype": "text/x-python",
   "name": "python",
   "nbconvert_exporter": "python",
   "pygments_lexer": "ipython3",
   "version": "3.9.1"
  }
 },
 "nbformat": 4,
 "nbformat_minor": 5
}
